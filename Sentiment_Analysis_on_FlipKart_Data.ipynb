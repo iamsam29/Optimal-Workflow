{
  "cells": [
    {
      "cell_type": "code",
      "execution_count": 1,
      "metadata": {
        "id": "wkkyVVnWuLN5"
      },
      "outputs": [],
      "source": [
        "import pandas as pd"
      ]
    },
    {
      "cell_type": "code",
      "execution_count": 2,
      "metadata": {
        "colab": {
          "base_uri": "https://localhost:8080/",
          "height": 423
        },
        "id": "omognWDyuVM4",
        "outputId": "c77d15dc-6bbc-45a5-cae4-ba427b1632e1"
      },
      "outputs": [
        {
          "data": {
            "text/html": [
              "<div>\n",
              "<style scoped>\n",
              "    .dataframe tbody tr th:only-of-type {\n",
              "        vertical-align: middle;\n",
              "    }\n",
              "\n",
              "    .dataframe tbody tr th {\n",
              "        vertical-align: top;\n",
              "    }\n",
              "\n",
              "    .dataframe thead th {\n",
              "        text-align: right;\n",
              "    }\n",
              "</style>\n",
              "<table border=\"1\" class=\"dataframe\">\n",
              "  <thead>\n",
              "    <tr style=\"text-align: right;\">\n",
              "      <th></th>\n",
              "      <th>Reviewer Name</th>\n",
              "      <th>Review Title</th>\n",
              "      <th>Place of Review</th>\n",
              "      <th>Up Votes</th>\n",
              "      <th>Down Votes</th>\n",
              "      <th>Month</th>\n",
              "      <th>Review text</th>\n",
              "      <th>Ratings</th>\n",
              "    </tr>\n",
              "  </thead>\n",
              "  <tbody>\n",
              "    <tr>\n",
              "      <th>0</th>\n",
              "      <td>Kamal Suresh</td>\n",
              "      <td>Nice product</td>\n",
              "      <td>Certified Buyer, Chirakkal</td>\n",
              "      <td>889.0</td>\n",
              "      <td>64.0</td>\n",
              "      <td>Feb 2021</td>\n",
              "      <td>Nice product, good quality, but price is now r...</td>\n",
              "      <td>4</td>\n",
              "    </tr>\n",
              "    <tr>\n",
              "      <th>1</th>\n",
              "      <td>Flipkart Customer</td>\n",
              "      <td>Don't waste your money</td>\n",
              "      <td>Certified Buyer, Hyderabad</td>\n",
              "      <td>109.0</td>\n",
              "      <td>6.0</td>\n",
              "      <td>Feb 2021</td>\n",
              "      <td>They didn't supplied Yonex Mavis 350. Outside ...</td>\n",
              "      <td>1</td>\n",
              "    </tr>\n",
              "    <tr>\n",
              "      <th>2</th>\n",
              "      <td>A. S. Raja Srinivasan</td>\n",
              "      <td>Did not meet expectations</td>\n",
              "      <td>Certified Buyer, Dharmapuri</td>\n",
              "      <td>42.0</td>\n",
              "      <td>3.0</td>\n",
              "      <td>Apr 2021</td>\n",
              "      <td>Worst product. Damaged shuttlecocks packed in ...</td>\n",
              "      <td>1</td>\n",
              "    </tr>\n",
              "    <tr>\n",
              "      <th>3</th>\n",
              "      <td>Suresh Narayanasamy</td>\n",
              "      <td>Fair</td>\n",
              "      <td>Certified Buyer, Chennai</td>\n",
              "      <td>25.0</td>\n",
              "      <td>1.0</td>\n",
              "      <td>NaN</td>\n",
              "      <td>Quite O. K. , but nowadays  the quality of the...</td>\n",
              "      <td>3</td>\n",
              "    </tr>\n",
              "    <tr>\n",
              "      <th>4</th>\n",
              "      <td>ASHIK P A</td>\n",
              "      <td>Over priced</td>\n",
              "      <td>NaN</td>\n",
              "      <td>147.0</td>\n",
              "      <td>24.0</td>\n",
              "      <td>Apr 2016</td>\n",
              "      <td>Over pricedJust â?¹620 ..from retailer.I didn'...</td>\n",
              "      <td>1</td>\n",
              "    </tr>\n",
              "    <tr>\n",
              "      <th>...</th>\n",
              "      <td>...</td>\n",
              "      <td>...</td>\n",
              "      <td>...</td>\n",
              "      <td>...</td>\n",
              "      <td>...</td>\n",
              "      <td>...</td>\n",
              "      <td>...</td>\n",
              "      <td>...</td>\n",
              "    </tr>\n",
              "    <tr>\n",
              "      <th>8513</th>\n",
              "      <td>NaN</td>\n",
              "      <td>NaN</td>\n",
              "      <td>NaN</td>\n",
              "      <td>NaN</td>\n",
              "      <td>NaN</td>\n",
              "      <td>NaN</td>\n",
              "      <td>NaN</td>\n",
              "      <td>5</td>\n",
              "    </tr>\n",
              "    <tr>\n",
              "      <th>8514</th>\n",
              "      <td>NaN</td>\n",
              "      <td>NaN</td>\n",
              "      <td>NaN</td>\n",
              "      <td>NaN</td>\n",
              "      <td>NaN</td>\n",
              "      <td>NaN</td>\n",
              "      <td>NaN</td>\n",
              "      <td>2</td>\n",
              "    </tr>\n",
              "    <tr>\n",
              "      <th>8515</th>\n",
              "      <td>NaN</td>\n",
              "      <td>NaN</td>\n",
              "      <td>NaN</td>\n",
              "      <td>NaN</td>\n",
              "      <td>NaN</td>\n",
              "      <td>NaN</td>\n",
              "      <td>NaN</td>\n",
              "      <td>4</td>\n",
              "    </tr>\n",
              "    <tr>\n",
              "      <th>8516</th>\n",
              "      <td>NaN</td>\n",
              "      <td>NaN</td>\n",
              "      <td>NaN</td>\n",
              "      <td>NaN</td>\n",
              "      <td>NaN</td>\n",
              "      <td>NaN</td>\n",
              "      <td>NaN</td>\n",
              "      <td>1</td>\n",
              "    </tr>\n",
              "    <tr>\n",
              "      <th>8517</th>\n",
              "      <td>NaN</td>\n",
              "      <td>NaN</td>\n",
              "      <td>NaN</td>\n",
              "      <td>NaN</td>\n",
              "      <td>NaN</td>\n",
              "      <td>NaN</td>\n",
              "      <td>NaN</td>\n",
              "      <td>4</td>\n",
              "    </tr>\n",
              "  </tbody>\n",
              "</table>\n",
              "<p>8518 rows × 8 columns</p>\n",
              "</div>"
            ],
            "text/plain": [
              "               Reviewer Name               Review Title  \\\n",
              "0               Kamal Suresh               Nice product   \n",
              "1          Flipkart Customer     Don't waste your money   \n",
              "2     A. S. Raja Srinivasan   Did not meet expectations   \n",
              "3        Suresh Narayanasamy                       Fair   \n",
              "4                  ASHIK P A                Over priced   \n",
              "...                      ...                        ...   \n",
              "8513                     NaN                        NaN   \n",
              "8514                     NaN                        NaN   \n",
              "8515                     NaN                        NaN   \n",
              "8516                     NaN                        NaN   \n",
              "8517                     NaN                        NaN   \n",
              "\n",
              "                  Place of Review  Up Votes  Down Votes     Month  \\\n",
              "0      Certified Buyer, Chirakkal     889.0        64.0  Feb 2021   \n",
              "1      Certified Buyer, Hyderabad     109.0         6.0  Feb 2021   \n",
              "2     Certified Buyer, Dharmapuri      42.0         3.0  Apr 2021   \n",
              "3        Certified Buyer, Chennai      25.0         1.0       NaN   \n",
              "4                             NaN     147.0        24.0  Apr 2016   \n",
              "...                           ...       ...         ...       ...   \n",
              "8513                          NaN       NaN         NaN       NaN   \n",
              "8514                          NaN       NaN         NaN       NaN   \n",
              "8515                          NaN       NaN         NaN       NaN   \n",
              "8516                          NaN       NaN         NaN       NaN   \n",
              "8517                          NaN       NaN         NaN       NaN   \n",
              "\n",
              "                                            Review text  Ratings  \n",
              "0     Nice product, good quality, but price is now r...        4  \n",
              "1     They didn't supplied Yonex Mavis 350. Outside ...        1  \n",
              "2     Worst product. Damaged shuttlecocks packed in ...        1  \n",
              "3     Quite O. K. , but nowadays  the quality of the...        3  \n",
              "4     Over pricedJust â?¹620 ..from retailer.I didn'...        1  \n",
              "...                                                 ...      ...  \n",
              "8513                                                NaN        5  \n",
              "8514                                                NaN        2  \n",
              "8515                                                NaN        4  \n",
              "8516                                                NaN        1  \n",
              "8517                                                NaN        4  \n",
              "\n",
              "[8518 rows x 8 columns]"
            ]
          },
          "execution_count": 2,
          "metadata": {},
          "output_type": "execute_result"
        }
      ],
      "source": [
        "df = pd.read_csv(\"C:/Users/VISHRUTH NIMALAN/Downloads/data.csv\")\n",
        "df"
      ]
    },
    {
      "cell_type": "code",
      "execution_count": 3,
      "metadata": {
        "id": "G66j5rJj05cv"
      },
      "outputs": [],
      "source": [
        "df1 = df[['Review text','Ratings']]"
      ]
    },
    {
      "cell_type": "code",
      "execution_count": 4,
      "metadata": {
        "colab": {
          "base_uri": "https://localhost:8080/"
        },
        "id": "XkYsJbOA0632",
        "outputId": "af012573-d7a5-47a6-8523-06c02d42df48"
      },
      "outputs": [
        {
          "data": {
            "text/plain": [
              "Review text    8\n",
              "Ratings        0\n",
              "dtype: int64"
            ]
          },
          "execution_count": 4,
          "metadata": {},
          "output_type": "execute_result"
        }
      ],
      "source": [
        "df1.isnull().sum()"
      ]
    },
    {
      "cell_type": "code",
      "execution_count": 5,
      "metadata": {
        "colab": {
          "base_uri": "https://localhost:8080/"
        },
        "id": "7g4EBodm0_ba",
        "outputId": "91c7ed3a-2a5d-47ac-cac9-490e15bb87b9"
      },
      "outputs": [
        {
          "name": "stderr",
          "output_type": "stream",
          "text": [
            "C:\\Users\\VISHRUTH NIMALAN\\AppData\\Local\\Temp\\ipykernel_9100\\3614008390.py:1: SettingWithCopyWarning: \n",
            "A value is trying to be set on a copy of a slice from a DataFrame\n",
            "\n",
            "See the caveats in the documentation: https://pandas.pydata.org/pandas-docs/stable/user_guide/indexing.html#returning-a-view-versus-a-copy\n",
            "  df1.dropna(inplace=True)\n"
          ]
        }
      ],
      "source": [
        "df1.dropna(inplace=True)"
      ]
    },
    {
      "cell_type": "code",
      "execution_count": 6,
      "metadata": {
        "colab": {
          "base_uri": "https://localhost:8080/",
          "height": 423
        },
        "id": "aHr1gFZi1Evm",
        "outputId": "431d3e76-3bfa-4e92-831f-17487fedce36"
      },
      "outputs": [
        {
          "data": {
            "text/html": [
              "<div>\n",
              "<style scoped>\n",
              "    .dataframe tbody tr th:only-of-type {\n",
              "        vertical-align: middle;\n",
              "    }\n",
              "\n",
              "    .dataframe tbody tr th {\n",
              "        vertical-align: top;\n",
              "    }\n",
              "\n",
              "    .dataframe thead th {\n",
              "        text-align: right;\n",
              "    }\n",
              "</style>\n",
              "<table border=\"1\" class=\"dataframe\">\n",
              "  <thead>\n",
              "    <tr style=\"text-align: right;\">\n",
              "      <th></th>\n",
              "      <th>Review text</th>\n",
              "      <th>Ratings</th>\n",
              "    </tr>\n",
              "  </thead>\n",
              "  <tbody>\n",
              "    <tr>\n",
              "      <th>0</th>\n",
              "      <td>Nice product, good quality, but price is now r...</td>\n",
              "      <td>4</td>\n",
              "    </tr>\n",
              "    <tr>\n",
              "      <th>1</th>\n",
              "      <td>They didn't supplied Yonex Mavis 350. Outside ...</td>\n",
              "      <td>1</td>\n",
              "    </tr>\n",
              "    <tr>\n",
              "      <th>2</th>\n",
              "      <td>Worst product. Damaged shuttlecocks packed in ...</td>\n",
              "      <td>1</td>\n",
              "    </tr>\n",
              "    <tr>\n",
              "      <th>3</th>\n",
              "      <td>Quite O. K. , but nowadays  the quality of the...</td>\n",
              "      <td>3</td>\n",
              "    </tr>\n",
              "    <tr>\n",
              "      <th>4</th>\n",
              "      <td>Over pricedJust â?¹620 ..from retailer.I didn'...</td>\n",
              "      <td>1</td>\n",
              "    </tr>\n",
              "    <tr>\n",
              "      <th>...</th>\n",
              "      <td>...</td>\n",
              "      <td>...</td>\n",
              "    </tr>\n",
              "    <tr>\n",
              "      <th>8505</th>\n",
              "      <td>Delivered before time but price is high from m...</td>\n",
              "      <td>3</td>\n",
              "    </tr>\n",
              "    <tr>\n",
              "      <th>8506</th>\n",
              "      <td>up to the mark but same is available in market...</td>\n",
              "      <td>4</td>\n",
              "    </tr>\n",
              "    <tr>\n",
              "      <th>8507</th>\n",
              "      <td>Nice delivery speedREAD MORE</td>\n",
              "      <td>5</td>\n",
              "    </tr>\n",
              "    <tr>\n",
              "      <th>8508</th>\n",
              "      <td>No complaints about the item . Its the best on...</td>\n",
              "      <td>5</td>\n",
              "    </tr>\n",
              "    <tr>\n",
              "      <th>8509</th>\n",
              "      <td>Not sure why we have charged for this product ...</td>\n",
              "      <td>1</td>\n",
              "    </tr>\n",
              "  </tbody>\n",
              "</table>\n",
              "<p>8510 rows × 2 columns</p>\n",
              "</div>"
            ],
            "text/plain": [
              "                                            Review text  Ratings\n",
              "0     Nice product, good quality, but price is now r...        4\n",
              "1     They didn't supplied Yonex Mavis 350. Outside ...        1\n",
              "2     Worst product. Damaged shuttlecocks packed in ...        1\n",
              "3     Quite O. K. , but nowadays  the quality of the...        3\n",
              "4     Over pricedJust â?¹620 ..from retailer.I didn'...        1\n",
              "...                                                 ...      ...\n",
              "8505  Delivered before time but price is high from m...        3\n",
              "8506  up to the mark but same is available in market...        4\n",
              "8507                       Nice delivery speedREAD MORE        5\n",
              "8508  No complaints about the item . Its the best on...        5\n",
              "8509  Not sure why we have charged for this product ...        1\n",
              "\n",
              "[8510 rows x 2 columns]"
            ]
          },
          "execution_count": 6,
          "metadata": {},
          "output_type": "execute_result"
        }
      ],
      "source": [
        "df1"
      ]
    },
    {
      "cell_type": "code",
      "execution_count": 7,
      "metadata": {
        "colab": {
          "base_uri": "https://localhost:8080/"
        },
        "id": "A-UULu-L1H5W",
        "outputId": "fbff7660-56e2-4e84-c572-e91546ad5644"
      },
      "outputs": [
        {
          "name": "stderr",
          "output_type": "stream",
          "text": [
            "C:\\Users\\VISHRUTH NIMALAN\\AppData\\Local\\Temp\\ipykernel_9100\\3809350880.py:9: SettingWithCopyWarning: \n",
            "A value is trying to be set on a copy of a slice from a DataFrame.\n",
            "Try using .loc[row_indexer,col_indexer] = value instead\n",
            "\n",
            "See the caveats in the documentation: https://pandas.pydata.org/pandas-docs/stable/user_guide/indexing.html#returning-a-view-versus-a-copy\n",
            "  df1['Sentiment'] = df1['Ratings'].apply(categorize_sentiment)\n"
          ]
        }
      ],
      "source": [
        "def categorize_sentiment(rating):\n",
        "    if rating >= 4:\n",
        "        return 'Positive'\n",
        "    elif rating <= 2:\n",
        "        return 'Negative'\n",
        "    else:\n",
        "        return 'Neutral'\n",
        "\n",
        "df1['Sentiment'] = df1['Ratings'].apply(categorize_sentiment)"
      ]
    },
    {
      "cell_type": "code",
      "execution_count": 8,
      "metadata": {
        "colab": {
          "base_uri": "https://localhost:8080/",
          "height": 423
        },
        "id": "IQvpwYPU1USk",
        "outputId": "48040fd2-6359-457e-8454-3dc7267c9615"
      },
      "outputs": [
        {
          "data": {
            "text/html": [
              "<div>\n",
              "<style scoped>\n",
              "    .dataframe tbody tr th:only-of-type {\n",
              "        vertical-align: middle;\n",
              "    }\n",
              "\n",
              "    .dataframe tbody tr th {\n",
              "        vertical-align: top;\n",
              "    }\n",
              "\n",
              "    .dataframe thead th {\n",
              "        text-align: right;\n",
              "    }\n",
              "</style>\n",
              "<table border=\"1\" class=\"dataframe\">\n",
              "  <thead>\n",
              "    <tr style=\"text-align: right;\">\n",
              "      <th></th>\n",
              "      <th>Review text</th>\n",
              "      <th>Ratings</th>\n",
              "      <th>Sentiment</th>\n",
              "    </tr>\n",
              "  </thead>\n",
              "  <tbody>\n",
              "    <tr>\n",
              "      <th>0</th>\n",
              "      <td>Nice product, good quality, but price is now r...</td>\n",
              "      <td>4</td>\n",
              "      <td>Positive</td>\n",
              "    </tr>\n",
              "    <tr>\n",
              "      <th>1</th>\n",
              "      <td>They didn't supplied Yonex Mavis 350. Outside ...</td>\n",
              "      <td>1</td>\n",
              "      <td>Negative</td>\n",
              "    </tr>\n",
              "    <tr>\n",
              "      <th>2</th>\n",
              "      <td>Worst product. Damaged shuttlecocks packed in ...</td>\n",
              "      <td>1</td>\n",
              "      <td>Negative</td>\n",
              "    </tr>\n",
              "    <tr>\n",
              "      <th>3</th>\n",
              "      <td>Quite O. K. , but nowadays  the quality of the...</td>\n",
              "      <td>3</td>\n",
              "      <td>Neutral</td>\n",
              "    </tr>\n",
              "    <tr>\n",
              "      <th>4</th>\n",
              "      <td>Over pricedJust â?¹620 ..from retailer.I didn'...</td>\n",
              "      <td>1</td>\n",
              "      <td>Negative</td>\n",
              "    </tr>\n",
              "    <tr>\n",
              "      <th>...</th>\n",
              "      <td>...</td>\n",
              "      <td>...</td>\n",
              "      <td>...</td>\n",
              "    </tr>\n",
              "    <tr>\n",
              "      <th>8505</th>\n",
              "      <td>Delivered before time but price is high from m...</td>\n",
              "      <td>3</td>\n",
              "      <td>Neutral</td>\n",
              "    </tr>\n",
              "    <tr>\n",
              "      <th>8506</th>\n",
              "      <td>up to the mark but same is available in market...</td>\n",
              "      <td>4</td>\n",
              "      <td>Positive</td>\n",
              "    </tr>\n",
              "    <tr>\n",
              "      <th>8507</th>\n",
              "      <td>Nice delivery speedREAD MORE</td>\n",
              "      <td>5</td>\n",
              "      <td>Positive</td>\n",
              "    </tr>\n",
              "    <tr>\n",
              "      <th>8508</th>\n",
              "      <td>No complaints about the item . Its the best on...</td>\n",
              "      <td>5</td>\n",
              "      <td>Positive</td>\n",
              "    </tr>\n",
              "    <tr>\n",
              "      <th>8509</th>\n",
              "      <td>Not sure why we have charged for this product ...</td>\n",
              "      <td>1</td>\n",
              "      <td>Negative</td>\n",
              "    </tr>\n",
              "  </tbody>\n",
              "</table>\n",
              "<p>8510 rows × 3 columns</p>\n",
              "</div>"
            ],
            "text/plain": [
              "                                            Review text  Ratings Sentiment\n",
              "0     Nice product, good quality, but price is now r...        4  Positive\n",
              "1     They didn't supplied Yonex Mavis 350. Outside ...        1  Negative\n",
              "2     Worst product. Damaged shuttlecocks packed in ...        1  Negative\n",
              "3     Quite O. K. , but nowadays  the quality of the...        3   Neutral\n",
              "4     Over pricedJust â?¹620 ..from retailer.I didn'...        1  Negative\n",
              "...                                                 ...      ...       ...\n",
              "8505  Delivered before time but price is high from m...        3   Neutral\n",
              "8506  up to the mark but same is available in market...        4  Positive\n",
              "8507                       Nice delivery speedREAD MORE        5  Positive\n",
              "8508  No complaints about the item . Its the best on...        5  Positive\n",
              "8509  Not sure why we have charged for this product ...        1  Negative\n",
              "\n",
              "[8510 rows x 3 columns]"
            ]
          },
          "execution_count": 8,
          "metadata": {},
          "output_type": "execute_result"
        }
      ],
      "source": [
        "df1"
      ]
    },
    {
      "cell_type": "code",
      "execution_count": 9,
      "metadata": {
        "colab": {
          "base_uri": "https://localhost:8080/"
        },
        "id": "gtlfks0d1Z5R",
        "outputId": "c76e8c2a-47c9-4005-a309-343dea673653"
      },
      "outputs": [
        {
          "data": {
            "text/plain": [
              "Sentiment\n",
              "Positive    0.801763\n",
              "Negative    0.125969\n",
              "Neutral     0.072268\n",
              "Name: proportion, dtype: float64"
            ]
          },
          "execution_count": 9,
          "metadata": {},
          "output_type": "execute_result"
        }
      ],
      "source": [
        "df1['Sentiment'].value_counts(normalize=True)"
      ]
    },
    {
      "cell_type": "markdown",
      "metadata": {
        "id": "D96tZorI1-VF"
      },
      "source": [
        "# Step 1 - Identify Input and Output"
      ]
    },
    {
      "cell_type": "code",
      "execution_count": 10,
      "metadata": {
        "id": "jFe0Bpdb1a0K"
      },
      "outputs": [],
      "source": [
        "X = df1[['Review text']]\n",
        "y = df1['Sentiment']"
      ]
    },
    {
      "cell_type": "markdown",
      "metadata": {
        "id": "fgBowcNn2Xhr"
      },
      "source": [
        "# Step 2 - Split the Data into Train and Test\n"
      ]
    },
    {
      "cell_type": "code",
      "execution_count": 11,
      "metadata": {
        "colab": {
          "base_uri": "https://localhost:8080/"
        },
        "id": "bPifOx5Z2ZXU",
        "outputId": "9d53fede-81de-4c4e-f1df-8afbfa1e4c1a"
      },
      "outputs": [
        {
          "name": "stdout",
          "output_type": "stream",
          "text": [
            "(6382, 1) (6382,)\n",
            "(2128, 1) (2128,)\n"
          ]
        }
      ],
      "source": [
        "from sklearn.model_selection import train_test_split\n",
        "\n",
        "X_train, X_test, y_train, y_test = train_test_split(X, y, random_state=1)\n",
        "\n",
        "print(X_train.shape, y_train.shape)\n",
        "print(X_test.shape, y_test.shape)"
      ]
    },
    {
      "cell_type": "markdown",
      "metadata": {
        "id": "kjzmS3Sv2lyL"
      },
      "source": [
        "# Step 3 - Data Preprocessing on train data"
      ]
    },
    {
      "cell_type": "code",
      "execution_count": 12,
      "metadata": {
        "colab": {
          "base_uri": "https://localhost:8080/"
        },
        "id": "0-Sv6lHt2QCB",
        "outputId": "14445c08-b683-4abf-e538-7429aef73c47"
      },
      "outputs": [
        {
          "name": "stderr",
          "output_type": "stream",
          "text": [
            "[nltk_data] Downloading package stopwords to C:\\Users\\VISHRUTH\n",
            "[nltk_data]     NIMALAN\\AppData\\Roaming\\nltk_data...\n",
            "[nltk_data]   Unzipping corpora\\stopwords.zip.\n",
            "[nltk_data] Downloading package wordnet to C:\\Users\\VISHRUTH\n",
            "[nltk_data]     NIMALAN\\AppData\\Roaming\\nltk_data...\n"
          ]
        },
        {
          "data": {
            "text/plain": [
              "True"
            ]
          },
          "execution_count": 12,
          "metadata": {},
          "output_type": "execute_result"
        }
      ],
      "source": [
        "import nltk\n",
        "from nltk.corpus import stopwords\n",
        "from nltk.stem.porter import PorterStemmer\n",
        "from nltk.stem import WordNetLemmatizer\n",
        "import re\n",
        "nltk.download('stopwords')\n",
        "nltk.download('wordnet')"
      ]
    },
    {
      "cell_type": "code",
      "execution_count": 13,
      "metadata": {
        "id": "wXnzUdyZ6UH8"
      },
      "outputs": [],
      "source": [
        "stemmer=PorterStemmer()\n",
        "lemmatizer=WordNetLemmatizer()"
      ]
    },
    {
      "cell_type": "code",
      "execution_count": 14,
      "metadata": {
        "id": "ZseIXiPI4TwQ"
      },
      "outputs": [],
      "source": [
        "def preprocess(text, flag):\n",
        "    # remove special characters\n",
        "    sentence = re.sub(r'[^a-zA-Z]', ' ', text)\n",
        "    # convert sentence into lower case\n",
        "    sentence = sentence.lower()\n",
        "    # tokenize sentence into words\n",
        "    tokens = sentence.split()\n",
        "    # remove stop words\n",
        "    clean_tokens = [token for token in tokens if token not in stopwords.words(\"english\")]\n",
        "    # stemming/lemmatization\n",
        "    if flag == 'stem':\n",
        "        clean_tokens = [stemmer.stem(token) for token in clean_tokens]\n",
        "    else:\n",
        "        clean_tokens = [lemmatizer.lemmatize(token) for token in clean_tokens]\n",
        "    return pd.Series(' '.join(clean_tokens))"
      ]
    },
    {
      "cell_type": "code",
      "execution_count": 15,
      "metadata": {
        "colab": {
          "base_uri": "https://localhost:8080/",
          "height": 241
        },
        "id": "8bomOJCX4AqZ",
        "outputId": "c31f9728-fe7b-468d-ef37-41d4247baa6e"
      },
      "outputs": [
        {
          "name": "stdout",
          "output_type": "stream",
          "text": [
            "CPU times: total: 0 ns\n",
            "Wall time: 0 ns\n"
          ]
        },
        {
          "data": {
            "text/html": [
              "<div>\n",
              "<style scoped>\n",
              "    .dataframe tbody tr th:only-of-type {\n",
              "        vertical-align: middle;\n",
              "    }\n",
              "\n",
              "    .dataframe tbody tr th {\n",
              "        vertical-align: top;\n",
              "    }\n",
              "\n",
              "    .dataframe thead th {\n",
              "        text-align: right;\n",
              "    }\n",
              "</style>\n",
              "<table border=\"1\" class=\"dataframe\">\n",
              "  <thead>\n",
              "    <tr style=\"text-align: right;\">\n",
              "      <th></th>\n",
              "      <th>0</th>\n",
              "    </tr>\n",
              "  </thead>\n",
              "  <tbody>\n",
              "    <tr>\n",
              "      <th>1095</th>\n",
              "      <td>nice read</td>\n",
              "    </tr>\n",
              "    <tr>\n",
              "      <th>7326</th>\n",
              "      <td>good dry weatherread</td>\n",
              "    </tr>\n",
              "    <tr>\n",
              "      <th>1377</th>\n",
              "      <td>well brandread</td>\n",
              "    </tr>\n",
              "    <tr>\n",
              "      <th>2127</th>\n",
              "      <td>firstly yonex best company badminton shuttle b...</td>\n",
              "    </tr>\n",
              "    <tr>\n",
              "      <th>5096</th>\n",
              "      <td>goodread</td>\n",
              "    </tr>\n",
              "  </tbody>\n",
              "</table>\n",
              "</div>"
            ],
            "text/plain": [
              "                                                      0\n",
              "1095                                          nice read\n",
              "7326                               good dry weatherread\n",
              "1377                                     well brandread\n",
              "2127  firstly yonex best company badminton shuttle b...\n",
              "5096                                           goodread"
            ]
          },
          "execution_count": 15,
          "metadata": {},
          "output_type": "execute_result"
        }
      ],
      "source": [
        "%time\n",
        "X_train_transformed = X_train['Review text'].apply(lambda x: preprocess(x, flag='lemma'))\n",
        "X_train_transformed.head()"
      ]
    },
    {
      "cell_type": "code",
      "execution_count": 16,
      "metadata": {
        "colab": {
          "base_uri": "https://localhost:8080/",
          "height": 206
        },
        "id": "VyzL5lXW7OL4",
        "outputId": "3060708c-bacd-4b12-811c-41cec9ae2976"
      },
      "outputs": [
        {
          "data": {
            "text/html": [
              "<div>\n",
              "<style scoped>\n",
              "    .dataframe tbody tr th:only-of-type {\n",
              "        vertical-align: middle;\n",
              "    }\n",
              "\n",
              "    .dataframe tbody tr th {\n",
              "        vertical-align: top;\n",
              "    }\n",
              "\n",
              "    .dataframe thead th {\n",
              "        text-align: right;\n",
              "    }\n",
              "</style>\n",
              "<table border=\"1\" class=\"dataframe\">\n",
              "  <thead>\n",
              "    <tr style=\"text-align: right;\">\n",
              "      <th></th>\n",
              "      <th>clean_text_lemma</th>\n",
              "    </tr>\n",
              "  </thead>\n",
              "  <tbody>\n",
              "    <tr>\n",
              "      <th>1095</th>\n",
              "      <td>nice read</td>\n",
              "    </tr>\n",
              "    <tr>\n",
              "      <th>7326</th>\n",
              "      <td>good dry weatherread</td>\n",
              "    </tr>\n",
              "    <tr>\n",
              "      <th>1377</th>\n",
              "      <td>well brandread</td>\n",
              "    </tr>\n",
              "    <tr>\n",
              "      <th>2127</th>\n",
              "      <td>firstly yonex best company badminton shuttle b...</td>\n",
              "    </tr>\n",
              "    <tr>\n",
              "      <th>5096</th>\n",
              "      <td>goodread</td>\n",
              "    </tr>\n",
              "  </tbody>\n",
              "</table>\n",
              "</div>"
            ],
            "text/plain": [
              "                                       clean_text_lemma\n",
              "1095                                          nice read\n",
              "7326                               good dry weatherread\n",
              "1377                                     well brandread\n",
              "2127  firstly yonex best company badminton shuttle b...\n",
              "5096                                           goodread"
            ]
          },
          "execution_count": 16,
          "metadata": {},
          "output_type": "execute_result"
        }
      ],
      "source": [
        "X_train_transformed.columns = ['clean_text_lemma']\n",
        "X_train_transformed.head()"
      ]
    },
    {
      "cell_type": "markdown",
      "metadata": {
        "id": "hpIY4WkH4nlB"
      },
      "source": [
        "# Step 4 - Data Preprocessing on test data"
      ]
    },
    {
      "cell_type": "code",
      "execution_count": 17,
      "metadata": {
        "colab": {
          "base_uri": "https://localhost:8080/",
          "height": 241
        },
        "id": "9A9rP7gS4iYb",
        "outputId": "b6c233b4-783b-4389-d6d1-30bace90761f"
      },
      "outputs": [
        {
          "name": "stdout",
          "output_type": "stream",
          "text": [
            "CPU times: total: 0 ns\n",
            "Wall time: 0 ns\n"
          ]
        },
        {
          "data": {
            "text/html": [
              "<div>\n",
              "<style scoped>\n",
              "    .dataframe tbody tr th:only-of-type {\n",
              "        vertical-align: middle;\n",
              "    }\n",
              "\n",
              "    .dataframe tbody tr th {\n",
              "        vertical-align: top;\n",
              "    }\n",
              "\n",
              "    .dataframe thead th {\n",
              "        text-align: right;\n",
              "    }\n",
              "</style>\n",
              "<table border=\"1\" class=\"dataframe\">\n",
              "  <thead>\n",
              "    <tr style=\"text-align: right;\">\n",
              "      <th></th>\n",
              "      <th>0</th>\n",
              "    </tr>\n",
              "  </thead>\n",
              "  <tbody>\n",
              "    <tr>\n",
              "      <th>3733</th>\n",
              "      <td>awesome read</td>\n",
              "    </tr>\n",
              "    <tr>\n",
              "      <th>3491</th>\n",
              "      <td>goodread</td>\n",
              "    </tr>\n",
              "    <tr>\n",
              "      <th>2532</th>\n",
              "      <td>niceread</td>\n",
              "    </tr>\n",
              "    <tr>\n",
              "      <th>4429</th>\n",
              "      <td>nice product better priceread</td>\n",
              "    </tr>\n",
              "    <tr>\n",
              "      <th>2698</th>\n",
              "      <td>genuine productread</td>\n",
              "    </tr>\n",
              "  </tbody>\n",
              "</table>\n",
              "</div>"
            ],
            "text/plain": [
              "                                  0\n",
              "3733                   awesome read\n",
              "3491                       goodread\n",
              "2532                       niceread\n",
              "4429  nice product better priceread\n",
              "2698            genuine productread"
            ]
          },
          "execution_count": 17,
          "metadata": {},
          "output_type": "execute_result"
        }
      ],
      "source": [
        "%time\n",
        "X_test_transformed= X_test['Review text'].apply(lambda x: preprocess(x, flag='lemma'))\n",
        "X_test_transformed.head()"
      ]
    },
    {
      "cell_type": "code",
      "execution_count": 18,
      "metadata": {
        "colab": {
          "base_uri": "https://localhost:8080/",
          "height": 206
        },
        "id": "cs9_mOH27WuG",
        "outputId": "dfa5fdae-0e03-4633-c6ec-ae12c3aecfee"
      },
      "outputs": [
        {
          "data": {
            "text/html": [
              "<div>\n",
              "<style scoped>\n",
              "    .dataframe tbody tr th:only-of-type {\n",
              "        vertical-align: middle;\n",
              "    }\n",
              "\n",
              "    .dataframe tbody tr th {\n",
              "        vertical-align: top;\n",
              "    }\n",
              "\n",
              "    .dataframe thead th {\n",
              "        text-align: right;\n",
              "    }\n",
              "</style>\n",
              "<table border=\"1\" class=\"dataframe\">\n",
              "  <thead>\n",
              "    <tr style=\"text-align: right;\">\n",
              "      <th></th>\n",
              "      <th>clean_text_lemma</th>\n",
              "    </tr>\n",
              "  </thead>\n",
              "  <tbody>\n",
              "    <tr>\n",
              "      <th>3733</th>\n",
              "      <td>awesome read</td>\n",
              "    </tr>\n",
              "    <tr>\n",
              "      <th>3491</th>\n",
              "      <td>goodread</td>\n",
              "    </tr>\n",
              "    <tr>\n",
              "      <th>2532</th>\n",
              "      <td>niceread</td>\n",
              "    </tr>\n",
              "    <tr>\n",
              "      <th>4429</th>\n",
              "      <td>nice product better priceread</td>\n",
              "    </tr>\n",
              "    <tr>\n",
              "      <th>2698</th>\n",
              "      <td>genuine productread</td>\n",
              "    </tr>\n",
              "  </tbody>\n",
              "</table>\n",
              "</div>"
            ],
            "text/plain": [
              "                   clean_text_lemma\n",
              "3733                   awesome read\n",
              "3491                       goodread\n",
              "2532                       niceread\n",
              "4429  nice product better priceread\n",
              "2698            genuine productread"
            ]
          },
          "execution_count": 18,
          "metadata": {},
          "output_type": "execute_result"
        }
      ],
      "source": [
        "X_test_transformed.columns = ['clean_text_lemma']\n",
        "X_test_transformed.head()"
      ]
    },
    {
      "cell_type": "code",
      "execution_count": null,
      "metadata": {
        "id": "vYJbQSb88Rah"
      },
      "outputs": [],
      "source": []
    },
    {
      "cell_type": "code",
      "execution_count": null,
      "metadata": {
        "id": "3RwoY04T9OeY"
      },
      "outputs": [],
      "source": []
    },
    {
      "cell_type": "code",
      "execution_count": 19,
      "metadata": {
        "id": "d0T2oCzb9Ogr"
      },
      "outputs": [],
      "source": [
        "import warnings\n",
        "warnings.filterwarnings('ignore')"
      ]
    },
    {
      "cell_type": "code",
      "execution_count": 20,
      "metadata": {
        "id": "oSGOSr_h9dvD"
      },
      "outputs": [],
      "source": [
        "from sklearn.pipeline import Pipeline\n",
        "from sklearn.feature_extraction.text import CountVectorizer, TfidfVectorizer\n",
        "from sklearn.naive_bayes import MultinomialNB\n",
        "from sklearn.linear_model import LogisticRegression\n",
        "from sklearn.tree import DecisionTreeClassifier\n",
        "from sklearn.model_selection import GridSearchCV"
      ]
    },
    {
      "cell_type": "code",
      "execution_count": 21,
      "metadata": {
        "id": "jmHwQ5fl9mDV"
      },
      "outputs": [],
      "source": [
        "import joblib\n",
        "from joblib import Memory\n",
        "import time"
      ]
    },
    {
      "cell_type": "code",
      "execution_count": 22,
      "metadata": {
        "colab": {
          "base_uri": "https://localhost:8080/"
        },
        "id": "agqlCWux9P7M",
        "outputId": "0e8065a5-019b-4b35-925f-4ff032f28e52"
      },
      "outputs": [
        {
          "name": "stdout",
          "output_type": "stream",
          "text": [
            "********** naive_bayes **********\n",
            "Fitting 5 folds for each of 16 candidates, totalling 80 fits\n",
            "CPU times: total: 3.58 s\n",
            "Wall time: 12.7 s\n",
            "Score on Test Data:  0.8304274526902422\n",
            "********** decision_tree **********\n",
            "Fitting 5 folds for each of 24 candidates, totalling 120 fits\n",
            "CPU times: total: 4.41 s\n",
            "Wall time: 14.6 s\n",
            "Score on Test Data:  0.8077546171940281\n",
            "********** logistic_regression **********\n",
            "Fitting 5 folds for each of 72 candidates, totalling 360 fits\n",
            "CPU times: total: 7min 29s\n",
            "Wall time: 14min 31s\n",
            "Score on Test Data:  0.8158656055585719\n"
          ]
        }
      ],
      "source": [
        "# Define a memory object to cache intermediate results\n",
        "cachedir = '.cache'\n",
        "memory = Memory(location=cachedir, verbose=0)\n",
        "\n",
        "pipelines = {\n",
        "    'naive_bayes': Pipeline([\n",
        "        ('vectorization', CountVectorizer()),\n",
        "        ('classifier', MultinomialNB())\n",
        "    ], memory=memory),\n",
        "    'decision_tree': Pipeline([\n",
        "        ('vectorization', CountVectorizer()),\n",
        "        ('classifier', DecisionTreeClassifier())\n",
        "    ], memory=memory),\n",
        "    'logistic_regression': Pipeline([\n",
        "        ('vectorization', CountVectorizer()),\n",
        "        ('classifier', LogisticRegression())\n",
        "    ], memory=memory)\n",
        "}\n",
        "\n",
        "# Define parameter grid for each algorithm\n",
        "param_grids = {\n",
        "    'naive_bayes': [\n",
        "        {\n",
        "            'vectorization': [CountVectorizer(), TfidfVectorizer()],\n",
        "            'vectorization__max_features' : [1000, 1500, 2000, 5000],\n",
        "            'classifier__alpha' : [1, 10]\n",
        "        }\n",
        "    ],\n",
        "    'decision_tree': [\n",
        "        {\n",
        "            'vectorization': [CountVectorizer(), TfidfVectorizer()],\n",
        "            'vectorization__max_features' : [1000, 1500, 2000, 5000],\n",
        "            'classifier__max_depth': [None, 5, 10]\n",
        "        }\n",
        "    ],\n",
        "    'logistic_regression': [\n",
        "        {\n",
        "            'vectorization': [CountVectorizer(), TfidfVectorizer()],\n",
        "            'vectorization__max_features' : [1000, 1500, 2000, 5000],\n",
        "            'classifier__C': [0.1, 1, 10],\n",
        "            'classifier__penalty': ['elasticnet'],\n",
        "            'classifier__l1_ratio': [0.4, 0.5, 0.6],\n",
        "            'classifier__solver': ['saga'],\n",
        "            'classifier__class_weight': ['balanced']\n",
        "        }\n",
        "    ]\n",
        "}\n",
        "\n",
        "# Perform GridSearchCV for each algorithm\n",
        "best_models = {}\n",
        "\n",
        "for algo in pipelines.keys():\n",
        "    print(\"*\"*10, algo, \"*\"*10)\n",
        "    grid_search = GridSearchCV(estimator=pipelines[algo],\n",
        "                               param_grid=param_grids[algo],\n",
        "                               cv=5,\n",
        "                               scoring='f1_weighted',\n",
        "                               return_train_score=True,\n",
        "                               verbose=1\n",
        "                              )\n",
        "\n",
        "    %time grid_search.fit(X_train_transformed['clean_text_lemma'], y_train)\n",
        "\n",
        "    best_models[algo] = grid_search.best_estimator_\n",
        "\n",
        "    print('Score on Test Data: ', grid_search.score(X_test_transformed['clean_text_lemma'], y_test))"
      ]
    },
    {
      "cell_type": "code",
      "execution_count": 23,
      "metadata": {},
      "outputs": [
        {
          "name": "stdout",
          "output_type": "stream",
          "text": [
            "naive_bayes\n",
            "Pipeline(memory=Memory(location=.cache\\joblib),\n",
            "         steps=[('vectorization', CountVectorizer(max_features=1000)),\n",
            "                ('classifier', MultinomialNB(alpha=1))])\n",
            "\n",
            "decision_tree\n",
            "Pipeline(memory=Memory(location=.cache\\joblib),\n",
            "         steps=[('vectorization', CountVectorizer(max_features=5000)),\n",
            "                ('classifier', DecisionTreeClassifier())])\n",
            "\n",
            "logistic_regression\n",
            "Pipeline(memory=Memory(location=.cache\\joblib),\n",
            "         steps=[('vectorization', CountVectorizer(max_features=5000)),\n",
            "                ('classifier',\n",
            "                 LogisticRegression(C=1, class_weight='balanced', l1_ratio=0.4,\n",
            "                                    penalty='elasticnet', solver='saga'))])\n",
            "\n"
          ]
        }
      ],
      "source": [
        "for name, model in best_models.items():\n",
        "    print(f\"{name}\")\n",
        "    print(f\"{model}\")\n",
        "    print()"
      ]
    },
    {
      "cell_type": "code",
      "execution_count": 26,
      "metadata": {},
      "outputs": [],
      "source": [
        "from sklearn import metrics\n",
        "import os"
      ]
    },
    {
      "cell_type": "code",
      "execution_count": 27,
      "metadata": {},
      "outputs": [
        {
          "name": "stdout",
          "output_type": "stream",
          "text": [
            "********** naive_bayes **********\n",
            "CPU times: total: 0 ns\n",
            "Wall time: 0 ns\n",
            "Test Score (F1) 0.8304274526902422\n",
            "Model Size: 97583 Bytes\n",
            "********** decision_tree **********\n",
            "CPU times: total: 0 ns\n",
            "Wall time: 0 ns\n",
            "Test Score (F1) 0.8077546171940281\n",
            "Model Size: 251345 Bytes\n",
            "********** logistic_regression **********\n",
            "CPU times: total: 0 ns\n",
            "Wall time: 0 ns\n",
            "Test Score (F1) 0.8158656055585719\n",
            "Model Size: 130074 Bytes\n"
          ]
        }
      ],
      "source": [
        "for name, model in best_models.items():\n",
        "    print(\"*\"*10, name, \"*\"*10)\n",
        "    \n",
        "    # Create directory if it doesn't exist\n",
        "    os.makedirs('best_models/', exist_ok=True)\n",
        "    \n",
        "    joblib.dump(model, f'best_models/{name}.pkl')\n",
        "    model = joblib.load(f'best_models/{name}.pkl')\n",
        "    \n",
        "    %time\n",
        "    y_test_pred = model.predict(X_test_transformed['clean_text_lemma'])\n",
        "    print(\"Test Score (F1)\", metrics.f1_score(y_test, y_test_pred, average='weighted'))\n",
        "    \n",
        "    print(\"Model Size:\", os.path.getsize(f'best_models/{name}.pkl'), \"Bytes\")"
      ]
    }
  ],
  "metadata": {
    "colab": {
      "provenance": []
    },
    "kernelspec": {
      "display_name": "Python 3",
      "name": "python3"
    },
    "language_info": {
      "codemirror_mode": {
        "name": "ipython",
        "version": 3
      },
      "file_extension": ".py",
      "mimetype": "text/x-python",
      "name": "python",
      "nbconvert_exporter": "python",
      "pygments_lexer": "ipython3",
      "version": "3.11.6"
    }
  },
  "nbformat": 4,
  "nbformat_minor": 0
}
